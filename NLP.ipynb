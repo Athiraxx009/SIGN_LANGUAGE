{
 "cells": [
  {
   "cell_type": "markdown",
   "id": "e0e710ba-3f45-403b-9e82-6fb80b36e839",
   "metadata": {},
   "source": [
    "# TEXT TO SIGN LANGUAGE"
   ]
  },
  {
   "cell_type": "code",
   "execution_count": null,
   "id": "5e440531-7db8-45a5-8d3e-ae72a851cb57",
   "metadata": {},
   "outputs": [],
   "source": [
    "#pip install gtts"
   ]
  },
  {
   "cell_type": "code",
   "execution_count": null,
   "id": "9fa5eaeb-c8b2-4354-b7b9-8d8dcabddcc2",
   "metadata": {
    "scrolled": true
   },
   "outputs": [],
   "source": [
    "#pip install pygame"
   ]
  },
  {
   "cell_type": "code",
   "execution_count": 4,
   "id": "0f5131f3-5316-4337-8fd5-f5e911d48b92",
   "metadata": {
    "scrolled": true
   },
   "outputs": [
    {
     "name": "stdin",
     "output_type": "stream",
     "text": [
      "ENTER A SENTENCE:  good morning\n"
     ]
    },
    {
     "name": "stdout",
     "output_type": "stream",
     "text": [
      "Processing word: good\n",
      "Error: Cannot find video file C:\\Users\\Dell\\Desktop\\KAREEM\\SIGN_LANG\\MEDIAPIPE\\PHASE_2\\sign_mp4\\good.mp4\n"
     ]
    },
    {
     "ename": "TypeError",
     "evalue": "cannot unpack non-iterable NoneType object",
     "output_type": "error",
     "traceback": [
      "\u001b[1;31m---------------------------------------------------------------------------\u001b[0m",
      "\u001b[1;31mTypeError\u001b[0m                                 Traceback (most recent call last)",
      "Cell \u001b[1;32mIn[4], line 85\u001b[0m\n\u001b[0;32m     83\u001b[0m \u001b[38;5;28;01mif\u001b[39;00m word \u001b[38;5;129;01min\u001b[39;00m d2:\n\u001b[0;32m     84\u001b[0m     \u001b[38;5;28mprint\u001b[39m(\u001b[38;5;124mf\u001b[39m\u001b[38;5;124m\"\u001b[39m\u001b[38;5;124mProcessing word: \u001b[39m\u001b[38;5;132;01m{\u001b[39;00mword\u001b[38;5;132;01m}\u001b[39;00m\u001b[38;5;124m\"\u001b[39m)\n\u001b[1;32m---> 85\u001b[0m     frames, width, height, fps \u001b[38;5;241m=\u001b[39m play_video_with_audio(d2[word], word)\n\u001b[0;32m     86\u001b[0m \u001b[38;5;28;01melse\u001b[39;00m:\n\u001b[0;32m     87\u001b[0m     \u001b[38;5;28mprint\u001b[39m(\u001b[38;5;124mf\u001b[39m\u001b[38;5;124m\"\u001b[39m\u001b[38;5;124mWord \u001b[39m\u001b[38;5;124m'\u001b[39m\u001b[38;5;132;01m{\u001b[39;00mword\u001b[38;5;132;01m}\u001b[39;00m\u001b[38;5;124m'\u001b[39m\u001b[38;5;124m not found. Processing letters.\u001b[39m\u001b[38;5;124m\"\u001b[39m)\n",
      "\u001b[1;31mTypeError\u001b[0m: cannot unpack non-iterable NoneType object"
     ]
    }
   ],
   "source": [
    "import os\n",
    "import cv2\n",
    "import pygame\n",
    "import json\n",
    "import time\n",
    "import numpy as np\n",
    "from gtts import gTTS\n",
    "import nltk\n",
    "from nltk.tokenize import word_tokenize\n",
    "\n",
    "# Load the mapping JSON\n",
    "json_path = r\"C:\\Users\\Athira\\OneDrive\\Documents\\Desktop\\SIGN_LANGUAGE\\mapping.json\"\n",
    "with open(json_path, 'r') as json_file:\n",
    "    mapping = json.load(json_file)\n",
    "\n",
    "# Extract mappings\n",
    "d1 = {key.lower(): value for key, value in mapping['alphabets'].items()}  \n",
    "d2 = {key.lower(): value for key, value in mapping['words'].items()}  \n",
    "\n",
    "# Create output directory if it doesn't exist\n",
    "output_dir = r\"C:\\Users\\Athira\\OneDrive\\Documents\\Desktop\\SIGN_LANGUAGE\\OUTPUT\"\n",
    "if not os.path.exists(output_dir):\n",
    "    os.makedirs(output_dir)\n",
    "\n",
    "video_files = []  # Store video file paths\n",
    "\n",
    "# Initialize pygame mixer\n",
    "pygame.mixer.init()\n",
    "\n",
    "def play_video_with_audio(video_path, text):\n",
    "    \n",
    "    if not os.path.exists(video_path):\n",
    "        print(f\"Error: Cannot find video file {video_path}\")\n",
    "        return None\n",
    "    \n",
    "    # Generate speech audio for the text\n",
    "    audio_path = os.path.join(output_dir, f\"{text}.mp3\")\n",
    "    tts = gTTS(text=text, lang='en')\n",
    "    tts.save(audio_path)\n",
    "\n",
    "    # Load and play audio\n",
    "    pygame.mixer.music.load(audio_path)\n",
    "    pygame.mixer.music.play()\n",
    "\n",
    "    # Open video\n",
    "    cap = cv2.VideoCapture(video_path)\n",
    "    if not cap.isOpened():\n",
    "        print(f\"Error: Cannot open video file {video_path}\")\n",
    "        return None  \n",
    "\n",
    "    # Get video properties (but will resize all to 640x640)\n",
    "    width = 640  # Fixed width\n",
    "    height = 640  # Fixed height\n",
    "    fps = cap.get(cv2.CAP_PROP_FPS)\n",
    "\n",
    "    # Store frames for concatenation\n",
    "    frames = []\n",
    "    while cap.isOpened():\n",
    "        ret, frame = cap.read()\n",
    "        if not ret:\n",
    "            break\n",
    "        frame = cv2.resize(frame, (width, height))  # Resize all frames to 640x640\n",
    "        frames.append(frame)  # Collect frames\n",
    "\n",
    "        cv2.imshow('Video', frame)\n",
    "        if cv2.waitKey(20) & 0xFF == ord('q'):\n",
    "            break\n",
    "\n",
    "    cap.release()\n",
    "    cv2.destroyAllWindows()\n",
    "    pygame.mixer.music.stop()\n",
    "    \n",
    "    return frames, width, height, fps  # Return frames for later concatenation\n",
    "\n",
    "# Process user input\n",
    "sentence = input(\"ENTER A SENTENCE: \").strip().lower()\n",
    "words = word_tokenize(sentence)\n",
    "\n",
    "all_frames = []\n",
    "final_width, final_height, final_fps = 640, 640, 20  # Set final size to 640x640 and default FPS to 20\n",
    "\n",
    "for word in words:\n",
    "    if word in d2:\n",
    "        print(f\"Processing word: {word}\")\n",
    "        frames, width, height, fps = play_video_with_audio(d2[word], word)\n",
    "    else:\n",
    "        print(f\"Word '{word}' not found. Processing letters.\")\n",
    "        frames, width, height, fps = [], None, None, None\n",
    "        for letter in word:\n",
    "            if letter in d1:\n",
    "                print(f\"Processing letter: {letter}\")\n",
    "                letter_frames, width, height, fps = play_video_with_audio(d1[letter], letter)\n",
    "                frames.extend(letter_frames)\n",
    "            else:\n",
    "                print(f\"No video found for letter '{letter}'.\")\n",
    "\n",
    "    if frames:\n",
    "        all_frames.extend(frames)\n",
    "\n",
    "# Save the final concatenated video\n",
    "if all_frames:\n",
    "    output_video_path = os.path.join(output_dir, f\"{sentence.replace(' ', '_')}.mp4\")\n",
    "    fourcc = cv2.VideoWriter_fourcc(*'mp4v')\n",
    "    out = cv2.VideoWriter(output_video_path, fourcc, final_fps, (final_width, final_height))\n",
    "\n",
    "    # Write all frames to the final video\n",
    "    for frame in all_frames:\n",
    "        out.write(frame)\n",
    "    out.release()\n",
    "\n",
    "    print(f\"Final video saved: {output_video_path}\")\n",
    "else:\n",
    "    print(\"No valid videos were processed.\")\n",
    "\n",
    "print(\"Processing complete!\")\n"
   ]
  },
  {
   "cell_type": "code",
   "execution_count": 2,
   "id": "ababbae1-c52b-42a7-97f5-3ce9b74f476b",
   "metadata": {},
   "outputs": [
    {
     "name": "stderr",
     "output_type": "stream",
     "text": [
      "[nltk_data] Downloading package punkt to\n",
      "[nltk_data]     C:\\Users\\Athira\\AppData\\Roaming\\nltk_data...\n",
      "[nltk_data]   Unzipping tokenizers\\punkt.zip.\n"
     ]
    },
    {
     "data": {
      "text/plain": [
       "True"
      ]
     },
     "execution_count": 2,
     "metadata": {},
     "output_type": "execute_result"
    }
   ],
   "source": [
    "nltk.download('punkt')"
   ]
  },
  {
   "cell_type": "code",
   "execution_count": null,
   "id": "ebc2ba66-77c2-4467-9b23-0d6154648715",
   "metadata": {},
   "outputs": [],
   "source": []
  }
 ],
 "metadata": {
  "kernelspec": {
   "display_name": "Python 3 (ipykernel)",
   "language": "python",
   "name": "python3"
  },
  "language_info": {
   "codemirror_mode": {
    "name": "ipython",
    "version": 3
   },
   "file_extension": ".py",
   "mimetype": "text/x-python",
   "name": "python",
   "nbconvert_exporter": "python",
   "pygments_lexer": "ipython3",
   "version": "3.9.0"
  }
 },
 "nbformat": 4,
 "nbformat_minor": 5
}
